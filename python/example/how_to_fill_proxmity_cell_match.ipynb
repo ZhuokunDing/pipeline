{
 "cells": [
  {
   "cell_type": "markdown",
   "metadata": {},
   "source": [
    "In this notebook, I briefly demonstrate the use of `ProximityCellMatch` and `BestProximityCellMatch` tables in `meso`"
   ]
  },
  {
   "cell_type": "code",
   "execution_count": 1,
   "metadata": {},
   "outputs": [
    {
     "name": "stdout",
     "output_type": "stream",
     "text": [
      "Loading local settings from pipeline_config.json\n",
      "Connecting eywalker@10.66.4.79:3306\n"
     ]
    }
   ],
   "source": [
    "from pipeline import meso"
   ]
  },
  {
   "cell_type": "markdown",
   "metadata": {},
   "source": [
    "Following demonstrates how to find matches between source scan: 25133-3-11 and target scan 25133-4-13.\n",
    "We also have a list of unit_ids from the source scan for which we want to find the match."
   ]
  },
  {
   "cell_type": "code",
   "execution_count": 7,
   "metadata": {},
   "outputs": [],
   "source": [
    "source_scan = dict(animal_id=25133, session=3, scan_idx=11)"
   ]
  },
  {
   "cell_type": "code",
   "execution_count": 8,
   "metadata": {},
   "outputs": [],
   "source": [
    "target_scan = dict(animal_id=25133, session=4, scan_idx=13)"
   ]
  },
  {
   "cell_type": "markdown",
   "metadata": {},
   "source": [
    "Designate the pairing as what needs to be matched:"
   ]
  },
  {
   "cell_type": "code",
   "execution_count": 12,
   "metadata": {},
   "outputs": [],
   "source": [
    "pairing = (meso.ScanInfo & source_scan).proj(src_session='session', src_scan_idx='scan_idx') * (meso.ScanInfo & target_scan).proj()"
   ]
  },
  {
   "cell_type": "code",
   "execution_count": 13,
   "metadata": {},
   "outputs": [],
   "source": [
    "meso.ScansToMatch.insert(pairing)"
   ]
  },
  {
   "cell_type": "markdown",
   "metadata": {},
   "source": [
    "Now also specify which units from the source should be matched"
   ]
  },
  {
   "cell_type": "code",
   "execution_count": 15,
   "metadata": {},
   "outputs": [],
   "source": [
    "# 150 units from the source scan\n",
    "unit_ids = [  46,   75,  117,  272,  342,  381,  395,  408,  414,  463,  537,\n",
    "568,  581,  633,  670,  800,  801,  842,  873, 1042, 1078, 1085,\n",
    "1175, 1193, 1246, 1420, 1440, 1443, 1451, 1464, 1719, 1755, 1823,\n",
    "1863, 2107, 2128, 2161, 2199, 2231, 2371, 2438, 2522, 2572, 2585,\n",
    "2644, 2764, 2809, 2810, 2873, 2924, 2973, 2989, 3028, 3035, 3083,\n",
    "3107, 3129, 3131, 3139, 3189, 3192, 3214, 3318, 3513, 3551, 3613,\n",
    "3618, 3671, 3680, 3742, 3810, 3945, 3973, 4065, 4069, 4085, 4123,\n",
    "4131, 4134, 4184, 4221, 4353, 4369, 4426, 4490, 4512, 4532, 4865,\n",
    "4971, 5140, 5171, 5227, 5276, 5694, 5746, 5810, 5817, 5856, 5910,\n",
    "6013, 6061, 6078, 6108, 6216, 6254, 6273, 6292, 6301, 6368, 6486,\n",
    "6497, 6558, 6569, 6618, 6620, 6825, 6887, 6911, 6984, 7091, 7199,\n",
    "7205, 7242, 7331, 7372, 7415, 7429, 7433, 7659, 7715, 7927, 7946,\n",
    "8085, 8096, 8181, 8317, 8391, 8392, 8395, 8396, 8415, 8472, 8478,\n",
    "8572, 8580, 8610, 8663, 8681, 8683, 8700]"
   ]
  },
  {
   "cell_type": "code",
   "execution_count": 16,
   "metadata": {},
   "outputs": [],
   "source": [
    "# create list of entries\n",
    "src_units = [dict(source_scan, unit_id=unit) for unit in unit_ids]"
   ]
  },
  {
   "cell_type": "code",
   "execution_count": 19,
   "metadata": {},
   "outputs": [],
   "source": [
    "meso.SourceUnitsToMatch.insert(meso.ScanSet.Unit.proj() & src_units)"
   ]
  },
  {
   "cell_type": "markdown",
   "metadata": {},
   "source": [
    "Now we have specified scans to match and source scan units, we can populate `ProximityCellMatch`"
   ]
  },
  {
   "cell_type": "code",
   "execution_count": 21,
   "metadata": {},
   "outputs": [
    {
     "name": "stderr",
     "output_type": "stream",
     "text": [
      "100%|██████████| 300/300 [02:26<00:00,  2.05it/s]\n"
     ]
    }
   ],
   "source": [
    "meso.ProximityCellMatch.populate(display_progress=True)"
   ]
  },
  {
   "cell_type": "markdown",
   "metadata": {},
   "source": [
    "Now find the best proximity match"
   ]
  },
  {
   "cell_type": "code",
   "execution_count": 22,
   "metadata": {},
   "outputs": [],
   "source": [
    "meso.BestProximityCellMatch().populate()"
   ]
  },
  {
   "cell_type": "code",
   "execution_count": 23,
   "metadata": {},
   "outputs": [
    {
     "data": {
      "text/html": [
       "\n",
       "        \n",
       "        <style type=\"text/css\">\n",
       "            .Relation{\n",
       "                border-collapse:collapse;\n",
       "            }\n",
       "            .Relation th{\n",
       "                background: #A0A0A0; color: #ffffff; padding:4px; border:#f0e0e0 1px solid;\n",
       "                font-weight: normal; font-family: monospace; font-size: 100%;\n",
       "            }\n",
       "            .Relation td{\n",
       "                padding:4px; border:#f0e0e0 1px solid; font-size:100%;\n",
       "            }\n",
       "            .Relation tr:nth-child(odd){\n",
       "                background: #ffffff;\n",
       "            }\n",
       "            .Relation tr:nth-child(even){\n",
       "                background: #f3f1ff;\n",
       "            }\n",
       "            /* Tooltip container */\n",
       "            .djtooltip {\n",
       "            }\n",
       "            /* Tooltip text */\n",
       "            .djtooltip .djtooltiptext {\n",
       "                visibility: hidden;\n",
       "                width: 120px;\n",
       "                background-color: black;\n",
       "                color: #fff;\n",
       "                text-align: center;\n",
       "                padding: 5px 0;\n",
       "                border-radius: 6px;\n",
       "                /* Position the tooltip text - see examples below! */\n",
       "                position: absolute;\n",
       "                z-index: 1;\n",
       "            }\n",
       "            #primary {\n",
       "                font-weight: bold;\n",
       "                color: black;\n",
       "            }\n",
       "\n",
       "            #nonprimary {\n",
       "                font-weight: normal;\n",
       "                color: white;\n",
       "            }\n",
       "\n",
       "            /* Show the tooltip text when you mouse over the tooltip container */\n",
       "            .djtooltip:hover .djtooltiptext {\n",
       "                visibility: visible;\n",
       "            }\n",
       "        </style>\n",
       "        \n",
       "        <b></b>\n",
       "            <div style=\"max-height:1000px;max-width:1500px;overflow:auto;\">\n",
       "            <table border=\"1\" class=\"Relation\">\n",
       "                <thead> <tr style=\"text-align: right;\"> <th> <div class=\"djtooltip\">\n",
       "                                <p id=\"primary\">animal_id</p>\n",
       "                                <span class=\"djtooltiptext\">id number</span>\n",
       "                            </div></th><th><div class=\"djtooltip\">\n",
       "                                <p id=\"primary\">src_session</p>\n",
       "                                <span class=\"djtooltiptext\">session index for the mouse</span>\n",
       "                            </div></th><th><div class=\"djtooltip\">\n",
       "                                <p id=\"primary\">src_scan_idx</p>\n",
       "                                <span class=\"djtooltiptext\">number of TIFF stack file</span>\n",
       "                            </div></th><th><div class=\"djtooltip\">\n",
       "                                <p id=\"primary\">pipe_version</p>\n",
       "                                <span class=\"djtooltiptext\"></span>\n",
       "                            </div></th><th><div class=\"djtooltip\">\n",
       "                                <p id=\"primary\">segmentation_method</p>\n",
       "                                <span class=\"djtooltiptext\"></span>\n",
       "                            </div></th><th><div class=\"djtooltip\">\n",
       "                                <p id=\"primary\">src_unit_id</p>\n",
       "                                <span class=\"djtooltiptext\">unique per scan & segmentation method</span>\n",
       "                            </div></th><th><div class=\"djtooltip\">\n",
       "                                <p id=\"primary\">session</p>\n",
       "                                <span class=\"djtooltiptext\">session index for the mouse</span>\n",
       "                            </div></th><th><div class=\"djtooltip\">\n",
       "                                <p id=\"primary\">scan_idx</p>\n",
       "                                <span class=\"djtooltiptext\">number of TIFF stack file</span>\n",
       "                            </div></th><th><div class=\"djtooltip\">\n",
       "                                <p id=\"nonprimary\">unit_id</p>\n",
       "                                <span class=\"djtooltiptext\">unique per scan & segmentation method</span>\n",
       "                            </div></th><th><div class=\"djtooltip\">\n",
       "                                <p id=\"nonprimary\">match_freq</p>\n",
       "                                <span class=\"djtooltiptext\">how many times it was matched</span>\n",
       "                            </div></th><th><div class=\"djtooltip\">\n",
       "                                <p id=\"nonprimary\">total_stacks</p>\n",
       "                                <span class=\"djtooltiptext\">number of stacks used to match</span>\n",
       "                            </div></th><th><div class=\"djtooltip\">\n",
       "                                <p id=\"nonprimary\">mean_distance</p>\n",
       "                                <span class=\"djtooltiptext\">average match distance (in um)</span>\n",
       "                            </div></th><th><div class=\"djtooltip\">\n",
       "                                <p id=\"nonprimary\">best_prox_ts</p>\n",
       "                                <span class=\"djtooltiptext\">timestamp of the processing</span>\n",
       "                            </div> </th> </tr> </thead>\n",
       "                <tbody> <tr> <td>25133</td>\n",
       "<td>3</td>\n",
       "<td>11</td>\n",
       "<td>1</td>\n",
       "<td>6</td>\n",
       "<td>46</td>\n",
       "<td>4</td>\n",
       "<td>13</td>\n",
       "<td>895</td>\n",
       "<td>2</td>\n",
       "<td>2</td>\n",
       "<td>3.94363</td>\n",
       "<td>2021-02-17 10:22:11</td></tr><tr><td>25133</td>\n",
       "<td>3</td>\n",
       "<td>11</td>\n",
       "<td>1</td>\n",
       "<td>6</td>\n",
       "<td>75</td>\n",
       "<td>4</td>\n",
       "<td>13</td>\n",
       "<td>3992</td>\n",
       "<td>2</td>\n",
       "<td>2</td>\n",
       "<td>1.82509</td>\n",
       "<td>2021-02-17 10:22:11</td></tr><tr><td>25133</td>\n",
       "<td>3</td>\n",
       "<td>11</td>\n",
       "<td>1</td>\n",
       "<td>6</td>\n",
       "<td>117</td>\n",
       "<td>4</td>\n",
       "<td>13</td>\n",
       "<td>3517</td>\n",
       "<td>2</td>\n",
       "<td>2</td>\n",
       "<td>2.20125</td>\n",
       "<td>2021-02-17 10:22:11</td></tr><tr><td>25133</td>\n",
       "<td>3</td>\n",
       "<td>11</td>\n",
       "<td>1</td>\n",
       "<td>6</td>\n",
       "<td>272</td>\n",
       "<td>4</td>\n",
       "<td>13</td>\n",
       "<td>3673</td>\n",
       "<td>1</td>\n",
       "<td>2</td>\n",
       "<td>3.75892</td>\n",
       "<td>2021-02-17 10:22:11</td></tr><tr><td>25133</td>\n",
       "<td>3</td>\n",
       "<td>11</td>\n",
       "<td>1</td>\n",
       "<td>6</td>\n",
       "<td>342</td>\n",
       "<td>4</td>\n",
       "<td>13</td>\n",
       "<td>3928</td>\n",
       "<td>2</td>\n",
       "<td>2</td>\n",
       "<td>2.94675</td>\n",
       "<td>2021-02-17 10:22:11</td></tr><tr><td>25133</td>\n",
       "<td>3</td>\n",
       "<td>11</td>\n",
       "<td>1</td>\n",
       "<td>6</td>\n",
       "<td>381</td>\n",
       "<td>4</td>\n",
       "<td>13</td>\n",
       "<td>3900</td>\n",
       "<td>2</td>\n",
       "<td>2</td>\n",
       "<td>1.36874</td>\n",
       "<td>2021-02-17 10:22:11</td></tr><tr><td>25133</td>\n",
       "<td>3</td>\n",
       "<td>11</td>\n",
       "<td>1</td>\n",
       "<td>6</td>\n",
       "<td>395</td>\n",
       "<td>4</td>\n",
       "<td>13</td>\n",
       "<td>8111</td>\n",
       "<td>2</td>\n",
       "<td>2</td>\n",
       "<td>18.4669</td>\n",
       "<td>2021-02-17 10:22:11</td></tr><tr><td>25133</td>\n",
       "<td>3</td>\n",
       "<td>11</td>\n",
       "<td>1</td>\n",
       "<td>6</td>\n",
       "<td>408</td>\n",
       "<td>4</td>\n",
       "<td>13</td>\n",
       "<td>3812</td>\n",
       "<td>2</td>\n",
       "<td>2</td>\n",
       "<td>2.5892</td>\n",
       "<td>2021-02-17 10:22:11</td></tr><tr><td>25133</td>\n",
       "<td>3</td>\n",
       "<td>11</td>\n",
       "<td>1</td>\n",
       "<td>6</td>\n",
       "<td>414</td>\n",
       "<td>4</td>\n",
       "<td>13</td>\n",
       "<td>3817</td>\n",
       "<td>2</td>\n",
       "<td>2</td>\n",
       "<td>2.74147</td>\n",
       "<td>2021-02-17 10:22:11</td></tr><tr><td>25133</td>\n",
       "<td>3</td>\n",
       "<td>11</td>\n",
       "<td>1</td>\n",
       "<td>6</td>\n",
       "<td>463</td>\n",
       "<td>4</td>\n",
       "<td>13</td>\n",
       "<td>2318</td>\n",
       "<td>2</td>\n",
       "<td>2</td>\n",
       "<td>6.12519</td>\n",
       "<td>2021-02-17 10:22:11</td></tr><tr><td>25133</td>\n",
       "<td>3</td>\n",
       "<td>11</td>\n",
       "<td>1</td>\n",
       "<td>6</td>\n",
       "<td>537</td>\n",
       "<td>4</td>\n",
       "<td>13</td>\n",
       "<td>1654</td>\n",
       "<td>1</td>\n",
       "<td>2</td>\n",
       "<td>3.21776</td>\n",
       "<td>2021-02-17 10:22:11</td></tr><tr><td>25133</td>\n",
       "<td>3</td>\n",
       "<td>11</td>\n",
       "<td>1</td>\n",
       "<td>6</td>\n",
       "<td>568</td>\n",
       "<td>4</td>\n",
       "<td>13</td>\n",
       "<td>8157</td>\n",
       "<td>2</td>\n",
       "<td>2</td>\n",
       "<td>23.9061</td>\n",
       "<td>2021-02-17 10:22:11</td> </tr> </tbody>\n",
       "            </table>\n",
       "            <p>...</p>\n",
       "            <p>Total: 150</p></div>\n",
       "            "
      ],
      "text/plain": [
       "*animal_id    *src_session   *src_scan_idx  *pipe_version  *segmentation_ *src_unit_id   *session    *scan_idx    unit_id     match_freq     total_stacks   mean_distance  best_prox_ts  \n",
       "+-----------+ +------------+ +------------+ +------------+ +------------+ +------------+ +---------+ +----------+ +---------+ +------------+ +------------+ +------------+ +------------+\n",
       "25133         3              11             1              6              46             4           13           895         2              2              3.94363        2021-02-17 10:\n",
       "25133         3              11             1              6              75             4           13           3992        2              2              1.82509        2021-02-17 10:\n",
       "25133         3              11             1              6              117            4           13           3517        2              2              2.20125        2021-02-17 10:\n",
       "25133         3              11             1              6              272            4           13           3673        1              2              3.75892        2021-02-17 10:\n",
       "25133         3              11             1              6              342            4           13           3928        2              2              2.94675        2021-02-17 10:\n",
       "25133         3              11             1              6              381            4           13           3900        2              2              1.36874        2021-02-17 10:\n",
       "25133         3              11             1              6              395            4           13           8111        2              2              18.4669        2021-02-17 10:\n",
       "25133         3              11             1              6              408            4           13           3812        2              2              2.5892         2021-02-17 10:\n",
       "25133         3              11             1              6              414            4           13           3817        2              2              2.74147        2021-02-17 10:\n",
       "25133         3              11             1              6              463            4           13           2318        2              2              6.12519        2021-02-17 10:\n",
       "25133         3              11             1              6              537            4           13           1654        1              2              3.21776        2021-02-17 10:\n",
       "25133         3              11             1              6              568            4           13           8157        2              2              23.9061        2021-02-17 10:\n",
       "   ...\n",
       " (Total: 150)"
      ]
     },
     "execution_count": 23,
     "metadata": {},
     "output_type": "execute_result"
    }
   ],
   "source": [
    "meso.BestProximityCellMatch()"
   ]
  }
 ],
 "metadata": {
  "kernelspec": {
   "display_name": "Python 3",
   "language": "python",
   "name": "python3"
  },
  "language_info": {
   "codemirror_mode": {
    "name": "ipython",
    "version": 3
   },
   "file_extension": ".py",
   "mimetype": "text/x-python",
   "name": "python",
   "nbconvert_exporter": "python",
   "pygments_lexer": "ipython3",
   "version": "3.6.8"
  }
 },
 "nbformat": 4,
 "nbformat_minor": 4
}
